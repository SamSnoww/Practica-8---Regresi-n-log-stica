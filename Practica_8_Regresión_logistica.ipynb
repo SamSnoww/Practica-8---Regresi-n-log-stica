{
  "nbformat": 4,
  "nbformat_minor": 0,
  "metadata": {
    "colab": {
      "provenance": []
    },
    "kernelspec": {
      "name": "python3",
      "display_name": "Python 3"
    },
    "language_info": {
      "name": "python"
    }
  },
  "cells": [
    {
      "cell_type": "code",
      "source": [
        "import numpy as np\n",
        "import pandas as pd\n",
        "import matplotlib.pyplot as plt"
      ],
      "metadata": {
        "id": "ZDyGMRWklCwz"
      },
      "execution_count": 15,
      "outputs": []
    },
    {
      "cell_type": "code",
      "source": [
        "df = pd.read_csv(\"/content/drive/MyDrive/Practica 8/Employee.csv\")"
      ],
      "metadata": {
        "id": "AHLYvpNHlEuj"
      },
      "execution_count": 16,
      "outputs": []
    },
    {
      "cell_type": "code",
      "source": [
        "# Codificar las variables categóricas\n",
        "df['Education'] = df['Education'].map({'Bachelors': 0, 'Masters': 1, 'PHD': 2})\n",
        "df['City'] = df['City'].map({'Pune': 0, 'New Delhi': 1, 'Bangalore': 2})\n",
        "df['Gender'] = df['Gender'].map({'Female': 0, 'Male': 1})\n",
        "df['EverBenched'] = df['EverBenched'].map({'No': 0, 'Yes': 1})\n",
        "\n",
        "# Establecer la proporción de entrenamiento y prueba\n",
        "proporcion_entrenamiento = 0.8\n",
        "num_ejemplos = len(df)\n",
        "num_ejemplos_entrenamiento = int(num_ejemplos * proporcion_entrenamiento)\n",
        "\n",
        "# Dividir el conjunto de datos en entrenamiento y prueba\n",
        "train = df[:num_ejemplos_entrenamiento]\n",
        "test = df[num_ejemplos_entrenamiento:]\n",
        "\n",
        "# Inicializar los pesos y el sesgo de manera aleatoria\n",
        "np.random.seed(0)\n",
        "weights = np.random.rand(train.shape[1] - 1)  # -1 para excluir la columna \"LeaveOrNot\"\n",
        "\n",
        "# Agregar una columna de unos para el sesgo (bias)\n",
        "df[\"bias\"] = 1\n",
        "\n",
        "# Calcular manualmente la media y la desviación estándar de las características de entrenamiento\n",
        "mean = train.drop(\"LeaveOrNot\", axis=1).mean()\n",
        "std = train.drop(\"LeaveOrNot\", axis=1).std()\n",
        "\n",
        "# Aplicar la normalización a las características de entrenamiento\n",
        "train_features = train.drop(\"LeaveOrNot\", axis=1)\n",
        "train_features = (train_features - mean) / std\n",
        "train_features = train_features.to_numpy()\n",
        "\n",
        "# Aplicar la normalización a las características de prueba\n",
        "test_features = test.drop(\"LeaveOrNot\", axis=1)\n",
        "test_features = (test_features - mean) / std\n",
        "test_features = test_features.to_numpy()"
      ],
      "metadata": {
        "id": "aX12698pl0gp"
      },
      "execution_count": 20,
      "outputs": []
    },
    {
      "cell_type": "code",
      "source": [
        "# Definir la función sigmoide\n",
        "def sigmoid(z):\n",
        "    return 1 / (1 + np.exp(-z))\n",
        "\n",
        "# Definir la función de costo (entropía cruzada)\n",
        "def compute_cost(df, weights):\n",
        "    m = len(df)\n",
        "    X = df.drop(\"LeaveOrNot\", axis=1).to_numpy()\n",
        "    y = df[\"LeaveOrNot\"].to_numpy()\n",
        "    h = sigmoid(np.dot(X, weights))\n",
        "    cost = (-1 / m) * (np.dot(y, np.log(h)) + np.dot(1 - y, np.log(1 - h)))\n",
        "    return cost"
      ],
      "metadata": {
        "id": "7IngM6MoAU3S"
      },
      "execution_count": 21,
      "outputs": []
    },
    {
      "cell_type": "code",
      "source": [
        "# Definir el entrenamiento del modelo\n",
        "learning_rate = 0.01\n",
        "num_epochs = 1000\n",
        "\n",
        "for epoch in range(num_epochs):\n",
        "    h = sigmoid(np.dot(train_features, weights))\n",
        "    gradient = np.dot(train_features.T, (h - train[\"LeaveOrNot\"].to_numpy())) / len(train)\n",
        "    weights -= learning_rate * gradient\n",
        "\n",
        "# Realizar predicciones en el conjunto de prueba\n",
        "predictions = sigmoid(np.dot(test_features, weights))\n",
        "predictions_binary = (predictions >= 0.5).astype(int)\n",
        "\n",
        "# Evaluación del modelo (métricas de evaluación)\n",
        "y_test = test[\"LeaveOrNot\"].to_numpy()\n",
        "accuracy = np.mean(predictions_binary == y_test)\n",
        "print(\"Presición del modelo:\", accuracy)"
      ],
      "metadata": {
        "colab": {
          "base_uri": "https://localhost:8080/"
        },
        "id": "G7QnsDOfAbcc",
        "outputId": "cd19b233-154d-4c16-9f70-f20ae437d04b"
      },
      "execution_count": 22,
      "outputs": [
        {
          "output_type": "stream",
          "name": "stdout",
          "text": [
            "Presición del modelo: 0.6809881847475833\n"
          ]
        }
      ]
    }
  ]
}